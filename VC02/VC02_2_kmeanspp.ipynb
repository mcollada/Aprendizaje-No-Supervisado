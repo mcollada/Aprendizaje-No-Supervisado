{
 "cells": [
  {
   "cell_type": "markdown",
   "metadata": {},
   "source": [
    "<center><h1>VC02: K-means++</h1></center>\n",
    "\n",
    "En esta práctica estudiaremos el funcionamiento y la utilización del algoritmo de inicialización avanzada de K-means conocido como K-means++.\n",
    "\n",
    "Para empezar, cargamos las librerías que vamos a necesitar:"
   ]
  },
  {
   "cell_type": "code",
   "execution_count": null,
   "metadata": {},
   "outputs": [],
   "source": [
    "import numpy as np\n",
    "import pandas as pd\n",
    "import matplotlib.pyplot as plt\n",
    "from mpl_toolkits.mplot3d import Axes3D"
   ]
  },
  {
   "cell_type": "markdown",
   "metadata": {},
   "source": [
    "\n",
    "Cargamos el dataset con el que vamos a trabajar:\n"
   ]
  },
  {
   "cell_type": "code",
   "execution_count": null,
   "metadata": {},
   "outputs": [],
   "source": [
    "np.random.seed(31) # Fijamos una semilla para asegurar la reproducibilidad de la práctica\n",
    "\n",
    "data_file_url = 'https://raw.githubusercontent.com/jhernandezgonzalez/unsupervisedlearning/master/datasets/sinteticos/dataset_cuatro_diferente_densidad.csv'\n",
    "D = np.array(pd.read_csv(data_file_url,header=0))\n",
    "D = D[ np.random.choice(np.arange(D.shape[0]), D.shape[0], replace=False) ,:]\n",
    "Dx = D[:,0:2]\n",
    "Dy = D[:,2]\n",
    "print('El dataset cargado tiene',Dy.size,'instancias.')\n",
    "\n",
    "fig, ax = plt.subplots(figsize=(10,5))\n",
    "ax.scatter(Dx[:,0],Dx[:,1], c=Dy)"
   ]
  },
  {
   "cell_type": "markdown",
   "metadata": {},
   "source": [
    "\n",
    "El algoritmo K-means tiene un único parámetro: el número de clústeres (K). Una vez fijado este valor, el primer paso consiste en elegir unos centros iniciales.\n"
   ]
  },
  {
   "cell_type": "code",
   "execution_count": null,
   "metadata": {},
   "outputs": [],
   "source": [
    "# Elegimos un número de clústeres a buscar\n",
    "K = 4\n",
    "\n",
    "def min_distancia_euclidiana_grupo(x, C):\n",
    "    return np.min(np.sqrt(np.sum(np.power(C-x,2),axis=1)))\n",
    "\n",
    "cDx = np.zeros(Dx.shape[1])\n",
    "cDx.shape = (1,Dx.shape[1])\n",
    "\n",
    "icenter = np.random.randint(Dx.shape[0])\n",
    "cDx[0,:] = Dx[icenter,:]\n",
    "auxDx = np.delete(Dx, icenter, 0)"
   ]
  },
  {
   "cell_type": "markdown",
   "metadata": {},
   "source": [
    "\n",
    "Una vez elegida aleatoriamente una instancia como primer centro, procedemos a muestrear, iterativamente, un nuevo centro entre el resto del conjunto de datos de manera proporcional a la distancia a los centros ya escogidos: \n"
   ]
  },
  {
   "cell_type": "code",
   "execution_count": null,
   "metadata": {},
   "outputs": [],
   "source": [
    "for k in np.arange(K-1):\n",
    "    dist_min = np.zeros(auxDx.shape[0])\n",
    "    for i in np.arange(auxDx.shape[0]):\n",
    "        dist_min[i] = min_distancia_euclidiana_grupo(auxDx[i,:], cDx)\n",
    "    probs = #### TU CODIGO AQUI ####\n",
    "    cumprobs = np.cumsum(probs)\n",
    "    icenter = np.where(cumprobs >= np.random.random_sample())[0][0]\n",
    "    cDx= np.append(cDx, np.matrix(auxDx[icenter,:]), axis=0)\n",
    "    auxDx = np.delete(auxDx, icenter, 0)\n",
    "\n",
    "print('Los centros iniciales elegidos aleatoriamente son:')\n",
    "print(cDx)\n",
    "print('EL VALOR A SUBIR AL CAMPUS VIRTUAL ES: ', cDx[1,0])\n",
    "\n",
    "fig, ax = plt.subplots(figsize=(10,5))\n",
    "ax.scatter(Dx[:,0],Dx[:,1])\n",
    "ax.scatter(np.array(cDx[:,0]),np.array(cDx[:,1]), marker='*', s=200, c='g')"
   ]
  },
  {
   "cell_type": "markdown",
   "metadata": {},
   "source": [
    "\n",
    "Una vez escogidos los centros, el algoritmo K-means continúa como es habitual:\n"
   ]
  },
  {
   "cell_type": "code",
   "execution_count": null,
   "metadata": {},
   "outputs": [],
   "source": [
    "# Definimos la distancia euclidiana de una instancia x \n",
    "# con respecto a un grupo de instancias C\n",
    "def distancia_euclidiana_grupo(x, C):   \n",
    "    return np.sqrt(np.sum(np.power(C-x,2),axis=1))\n",
    "\n",
    "# Preparamos el vector donde guardamos la asignación de cada elemento \n",
    "# a un clúster (1,...,K)\n",
    "Dyp = np.zeros(Dx.shape[0])\n",
    "\n",
    "fig, ax = plt.subplots(figsize=(10,5))\n",
    "ax.scatter(Dx[:,0],Dx[:,1])\n",
    "ax.scatter(np.array(cDx[:,0]),np.array(cDx[:,1]), marker='*', s=200, c='g')\n",
    "\n",
    "# Flag de convergencia\n",
    "iterando = True\n",
    "\n",
    "while iterando:\n",
    "\n",
    "    # Vector auxiliar para guardar los centros de la iteración pasada\n",
    "    # necesarios para identificar la convergencia\n",
    "    cDx_ant = cDx.copy()\n",
    "\n",
    "    # Buscamos el centro más cercano a cada instancia y la asignamos a ese clúster\n",
    "    for i in np.arange(Dx.shape[0]):\n",
    "        pred_y = #### TU CODIGO AQUI ####\n",
    "        Dyp[i] = pred_y\n",
    "\n",
    "    # Calcular los nuevos centros\n",
    "    for k in range(K):\n",
    "        cDx[k,:] = #### TU CODIGO AQUI ####\n",
    "\n",
    "    for k in np.arange(K):\n",
    "        ax.plot( [cDx_ant[k,0], cDx[k,0]],[cDx_ant[k,1], cDx[k,1]], linestyle='-', marker='*', c='y')\n",
    "    \n",
    "    iterando = (np.absolute(np.sum(cDx-cDx_ant)) > 0.00001)\n",
    "\n",
    "ax.scatter(np.array(cDx[:,0]),np.array(cDx[:,1]), marker='*', s=200, c='r')\n",
    "\n",
    "# Ver asignaciones finales\n",
    "fig, ax = plt.subplots(figsize=(10,5))\n",
    "ax.scatter(Dx[:,0],Dx[:,1], c=Dyp)\n",
    "ax.scatter(np.array(cDx[:,0]),np.array(cDx[:,1]), marker='*', s=200, c='r')\n"
   ]
  },
  {
   "cell_type": "markdown",
   "metadata": {},
   "source": [
    "\n",
    "En la implementación de K-means en Scikit-learn, se usa por defecto la inicialización de K-means++.\n"
   ]
  },
  {
   "cell_type": "code",
   "execution_count": null,
   "metadata": {},
   "outputs": [],
   "source": []
  }
 ],
 "metadata": {
  "kernelspec": {
   "display_name": "Python 3",
   "language": "python",
   "name": "python3"
  },
  "language_info": {
   "codemirror_mode": {
    "name": "ipython",
    "version": 3
   },
   "file_extension": ".py",
   "mimetype": "text/x-python",
   "name": "python",
   "nbconvert_exporter": "python",
   "pygments_lexer": "ipython3",
   "version": "3.7.1"
  }
 },
 "nbformat": 4,
 "nbformat_minor": 2
}

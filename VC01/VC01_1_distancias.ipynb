{
 "cells": [
  {
   "cell_type": "markdown",
   "metadata": {},
   "source": [
    "<center><h1>VC01: Uso de las medidas de (di)similitud</h1></center>\n",
    "\n",
    "Esta primera práctica está enfocada al estudio de las diferentes medidas de similitud y disimilitud-distancia que hemos visto en la parte teórica. \n",
    "Programaremos nuestras propias versiones de diferentes medidas y veremos cómo se usan las que incorporan las diferentes librerías de Python.\n",
    "\n",
    "Para empezar, cargamos las librerías que vamos a necesitar:\n"
   ]
  },
  {
   "cell_type": "code",
   "execution_count": null,
   "metadata": {},
   "outputs": [],
   "source": [
    "import numpy as np\n",
    "import itertools as it\n",
    "import pandas as pd\n",
    "import matplotlib.pyplot as plt\n",
    "from mpl_toolkits.mplot3d import Axes3D"
   ]
  },
  {
   "cell_type": "markdown",
   "metadata": {},
   "source": [
    "\n",
    "Creamos y cargamos los ejemplos y los conjuntos de datos que usamos en esta práctica:\n"
   ]
  },
  {
   "cell_type": "code",
   "execution_count": null,
   "metadata": {},
   "outputs": [],
   "source": [
    "np.random.seed(19) # Fijamos una semilla para asegurar la reproducibilidad de la práctica\n",
    "\n",
    "n_samples = 100\n",
    "C = np.array([[1., 0., -0.1], [1.7, .4, .3], [.7, 1.1, .5]])\n",
    "X = np.dot(np.random.randn(n_samples, 3), C)\n",
    "\n",
    "# Veamos qué pinta tienen los datos\n",
    "fig = plt.figure()\n",
    "ax = Axes3D(fig)\n",
    "ax.scatter(X[2:,0], X[2:,1], X[2:,2])\n",
    "\n",
    "ax.scatter(X[1,0], X[1,1], X[1,2], color='red')\n",
    "ax.text(X[1,0],X[1,1],X[1,2],  '%s' % (\"X-1\"), size=20, zorder=1, color='k') \n",
    "\n",
    "ax.scatter(X[2,0], X[2,1], X[2,2], color='red')\n",
    "ax.text(X[2,0],X[2,1],X[2,2],  '%s' % (\"X-2\"), size=20, zorder=1, color='k') \n",
    "\n",
    "# Cargamos también un conjunto de datos\n",
    "data_file_url = 'https://raw.githubusercontent.com/jhernandezgonzalez/unsupervisedlearning/master/datasets/sinteticos/dataset_dos_guassianas.csv'\n",
    "D = np.array(pd.read_csv(data_file_url))\n",
    "D = D[ np.random.choice(np.arange(D.shape[0]), D.shape[0], replace=False) ,:]\n",
    "Dx = D[D[:,2]==2,0:2] # nos quedamos con uno de los clústeres y eliminamos la variable de la categoría\n",
    "\n",
    "fig, ax = plt.subplots()\n",
    "ax.scatter(Dx[:,0],Dx[:,1])\n",
    "\n",
    "ax.scatter(Dx[0,0], Dx[0,1], color='red')\n",
    "ax.text(Dx[0,0],Dx[0,1], '%s' % (\"X-0\"), size=20, zorder=1, color='k') \n",
    "ax.scatter(Dx[1,0], Dx[1,1], color='red')\n",
    "ax.text(Dx[1,0],Dx[1,1], '%s' % (\"X-1\"), size=20, zorder=1, color='k') \n",
    "ax.scatter(Dx[2,0], Dx[2,1], color='red')\n",
    "ax.text(Dx[2,0],Dx[2,1], '%s' % (\"X-2\"), size=20, zorder=1, color='k') \n",
    "\n"
   ]
  },
  {
   "cell_type": "markdown",
   "metadata": {},
   "source": [
    "\n",
    "Sabemos que la distancia euclidiana se define como la raiz cuadrada de la suma de las diferencias por dimensión al cuadrado:\n"
   ]
  },
  {
   "cell_type": "code",
   "execution_count": null,
   "metadata": {},
   "outputs": [],
   "source": [
    "def distancia_euclidiana(x, y):   \n",
    "    return np.sqrt(np.sum((x - y) ** 2))\n",
    "\n",
    "print(X[1:3,:])\n",
    "print('Distancia = ',distancia_euclidiana(X[1,:],X[2,:]))"
   ]
  },
  {
   "cell_type": "markdown",
   "metadata": {},
   "source": [
    "\n",
    "De manera similar, la distancia manhattan se define como la suma de las diferencias por dimensión en valor absoluto:\n"
   ]
  },
  {
   "cell_type": "code",
   "execution_count": null,
   "metadata": {},
   "outputs": [],
   "source": [
    "def distancia_manhattan(x, y):   \n",
    "    return np.sum(np.absolute(x - y))\n",
    "\n",
    "print('Distancia = ',distancia_manhattan(X[1,:],X[2,:]))"
   ]
  },
  {
   "cell_type": "markdown",
   "metadata": {},
   "source": [
    "\n",
    "Ambas son casos particulares de la p-norma:\n"
   ]
  },
  {
   "cell_type": "code",
   "execution_count": null,
   "metadata": {
    "scrolled": true
   },
   "outputs": [],
   "source": [
    "def p_norma(x, y, p):   \n",
    "    return np.sum(np.absolute(x - y) ** p)#### TU CODIGO AQUI ####\n",
    "\n",
    "print('Diferencia entre 1-norma y dist. manhattan  = ',p_norma(X[1,:],X[2,:],1)-distancia_manhattan(X[1,:],X[2,:]))\n",
    "print('Diferencia entre 2-norma y dist. euclidiana = ',p_norma(X[1,:],X[2,:],2)-distancia_euclidiana(X[1,:],X[2,:]))"
   ]
  },
  {
   "cell_type": "markdown",
   "metadata": {},
   "source": [
    "\n",
    "Otra generalización de la distancia euclidiana es la distancia de Mahalanobis, que tiene en cuenta la varianza de cada dimensión y las covarianzas entre ellas. Para poder calcular la distancia de Mahalanobis, en primer lugar se ha de estimar la matriz de covarianzas a partir de los datos:\n",
    "https://es.wikipedia.org/wiki/Matriz_de_covarianza\n",
    "\n",
    "En pocas palabras, se puede estimar, para cada par de dimensiones (a y b), como la suma del producto de cada valor de a menos su valor medio por el valor de b menos su valor medio, todo ello partido por el número de instancias menos 1.\n"
   ]
  },
  {
   "cell_type": "code",
   "execution_count": null,
   "metadata": {},
   "outputs": [],
   "source": [
    "def matriz_covarianza(X):\n",
    "    Xm = X-np.mean(X,axis=0)\n",
    "    mC = np.zeros((X.shape[1],X.shape[1]))\n",
    "    for pair in it.product(np.arange(X.shape[1]), repeat=2):\n",
    "        mC[pair] = np.sum(#### TU CODIGO AQUI ####\n",
    "        )/float(X.shape[0] - 1)\n",
    "    return mC"
   ]
  },
  {
   "cell_type": "markdown",
   "metadata": {},
   "source": [
    "\n",
    "Una vez definida la matriz de covarianzas, la distancia de Mahalanobis se puede calcular, para dos instancias x e y, como la raiz cuadrada del producto del vector (x-y) transpuesto por la <b>inversa</b> de la matriz de covarianzas nuevamente por el vector (x-y):\n"
   ]
  },
  {
   "cell_type": "code",
   "execution_count": null,
   "metadata": {},
   "outputs": [],
   "source": [
    "def distancia_mahalanobis(x,y,mCi):\n",
    "    v = x-y\n",
    "    v.shape=(v.size,1)\n",
    "    res = #### TU CODIGO AQUI ####\n",
    "    return res\n",
    "\n",
    "mC = matriz_covarianza(X)\n",
    "mCi = np.linalg.inv(mC)\n",
    "print('Distancia = ',distancia_mahalanobis(X[1,:],X[2,:],mCi), ' (** ESTA ES LA RESPUESTA A INCLUIR EN EL CAMPUS **)')"
   ]
  },
  {
   "cell_type": "markdown",
   "metadata": {},
   "source": [
    "\n",
    "Como se comentaba en la clase de teoría, la distancia euclidiana y la de mahalanobis pueden dar resultados contradictorios. Veamos un ejemplo con el dataset que hemos cargado, Dx. En la imagen previa se pueden observar las posiciones de X0, X1 y X2. La instancia más cercana a X1 es X0 según la distancia euclidiana y X2 según la de Mahalanobis:\n"
   ]
  },
  {
   "cell_type": "code",
   "execution_count": null,
   "metadata": {},
   "outputs": [],
   "source": [
    "mdC = matriz_covarianza(Dx)\n",
    "mdCi = np.linalg.inv(mdC)\n",
    "print('Distancia X1-X0 mahalanobis = ',distancia_mahalanobis(Dx[1,:],Dx[0,:],mdCi), \n",
    "      '\\tvs. euclidiana = ', distancia_euclidiana(Dx[1,:],Dx[0,:]))\n",
    "print('Distancia X1-X2 mahalanobis = ',distancia_mahalanobis(Dx[1,:],Dx[2,:],mdCi), \n",
    "      '\\tvs. euclidiana = ', distancia_euclidiana(Dx[1,:],Dx[2,:]))"
   ]
  },
  {
   "cell_type": "markdown",
   "metadata": {},
   "source": [
    "\n",
    "La similitud de coseno se define, por su parte, como el producto escalar de los dos vectores (instancias) dividido por el producto de las magnitudes de ambos vectores:\n"
   ]
  },
  {
   "cell_type": "code",
   "execution_count": null,
   "metadata": {},
   "outputs": [],
   "source": [
    "def similitud_coseno(x, y):\n",
    "    return np.dot(x, y) / (np.sqrt(np.dot(x, x)) * #### TU CODIGO AQUI ####\n",
    "                          )\n",
    "\n",
    "print(similitud_coseno(X[0,:],X[1,:]))\n",
    "print(similitud_coseno(X[0,:],X[2,:]))"
   ]
  },
  {
   "cell_type": "markdown",
   "metadata": {},
   "source": [
    "\n",
    "Como ésta es una medida de similitud entre -1 y 1 (donde el valor 1 representa la misma dirección, o máxima similitud, y el valor -1 representa direcciones contrarias, o máxima disimilitud), si tomamos 1-similitud como medida de disimilitud no podemos hablar propiamente de distancia. Es más correcto referirnos a ella como disimilitud coseno:\n"
   ]
  },
  {
   "cell_type": "code",
   "execution_count": null,
   "metadata": {},
   "outputs": [],
   "source": [
    "def disimilitud_coseno(x, y):\n",
    "    return 1-similitud_coseno(x, y)"
   ]
  },
  {
   "cell_type": "markdown",
   "metadata": {},
   "source": [
    "\n",
    "Si todas las variables son binarias, podemos usar otro tipo de medidas, tales como:\n"
   ]
  },
  {
   "cell_type": "code",
   "execution_count": null,
   "metadata": {},
   "outputs": [],
   "source": [
    "def distancia_hamming(x, y):\n",
    "    return np.sum(x!=y)\n",
    "\n",
    "def similitud_jaccard(x, y):\n",
    "    return np.sum(x*y)/float(np.sum(x+y>0))\n",
    "\n",
    "def distancia_jaccard(x, y):\n",
    "    return 1-similitud_jaccard(x,y)\n",
    "\n",
    "Xb = np.random.randint(0,2,n_samples*5)\n",
    "Xb.shape = (n_samples, 5)\n",
    "\n",
    "print(distancia_hamming(Xb[1,:],Xb[2,:]))\n",
    "print(distancia_jaccard(Xb[1,:],Xb[2,:]))\n"
   ]
  },
  {
   "cell_type": "markdown",
   "metadata": {},
   "source": [
    "\n",
    "Si entre nuestras variables existen variables discretas o categóricas, podemos usar una medida específica. En este caso, tendremos que combinarla con el resto mediante una distancia heterogénea:\n"
   ]
  },
  {
   "cell_type": "code",
   "execution_count": null,
   "metadata": {},
   "outputs": [],
   "source": [
    "# solo para una dimension\n",
    "def distancia_categorica(x, y):\n",
    "    return 1-int(x==y)\n",
    "\n",
    "def distancia_heterogenea(x, y, w, distancias):\n",
    "    return np.sum([w[d]*distancias[d](x[d],y[d]) for d in np.arange(x.size)])\n",
    "\n",
    "w = np.array([1,1,1,1,1])\n",
    "ds = [distancia_manhattan,distancia_manhattan, distancia_categorica,distancia_categorica,distancia_categorica]\n",
    "\n",
    "#distancia_heterogenea(Xb[1,:],Xb[2,:],w,ds)"
   ]
  },
  {
   "cell_type": "markdown",
   "metadata": {},
   "source": [
    "\n",
    "El vector de pesos w nos permite asignar diferente relevancia a las distintas dimensiones. Es posible calcular este vector de manera automática, siguiendo el método de Hastie et al. (2008):\n"
   ]
  },
  {
   "cell_type": "code",
   "execution_count": null,
   "metadata": {},
   "outputs": [],
   "source": [
    "\n",
    "def calcular_pesos(X, distancias):\n",
    "    vW = np.zeros(X.shape[1])\n",
    "    for d in np.arange(X.shape[1]):\n",
    "        for pair in it.product(np.arange(X.shape[0]), repeat=2):\n",
    "            vW[d] += distancias[d](X[pair[0],d],X[pair[1],d])\n",
    "    vW /= float(X.shape[0]**2)\n",
    "    return 1/vW\n",
    "\n",
    "w_a = calcular_pesos(Xb, ds)\n",
    "\n",
    "print(w_a)\n",
    "\n",
    "print('Distancia heterogenea sin ajustar w  = ',distancia_heterogenea(Xb[1,:],Xb[2,:],w,ds))\n",
    "print('Distancia heterogenea con w ajustado = ',distancia_heterogenea(Xb[1,:],Xb[2,:],w_a,ds))"
   ]
  },
  {
   "cell_type": "markdown",
   "metadata": {},
   "source": [
    "\n",
    "<h2>Matriz de distancias</h2>\n",
    "\n",
    "Un concepto clave del aprendizaje no supervisado es el de <b>matriz de distancias</b>. Muchos algoritmos son capaces de funcionar directamente usando esta matriz en vez de la matriz-conjunto de datos de entrenamiento. Consiste en calcula la distancia entre todos los pares de instancias del conjunto de entrenamiento:\n"
   ]
  },
  {
   "cell_type": "code",
   "execution_count": null,
   "metadata": {},
   "outputs": [],
   "source": [
    "def matriz_distancias(X, distancia):\n",
    "    mD = np.zeros((X.shape[0],X.shape[0]))\n",
    "    for pair in it.product(np.arange(X.shape[0]), repeat=2):\n",
    "        mD[pair] = distancia(#### TU CODIGO AQUI ####\n",
    "        )\n",
    "    return mD\n",
    "\n",
    "Ma = matriz_distancias(X, distancia_euclidiana)"
   ]
  },
  {
   "cell_type": "markdown",
   "metadata": {},
   "source": [
    "\n",
    "De manera equivalente, hablamos de matriz de similitudes cuando lo que se guarda en la matriz son valores de similitud (0, máxima diferencia; 1, máxima similitud):\n"
   ]
  },
  {
   "cell_type": "code",
   "execution_count": null,
   "metadata": {},
   "outputs": [],
   "source": [
    "def matriz_similitud(X,distancia,C):\n",
    "    mD = matriz_distancias(X,distancia)\n",
    "    return np.exp(-mD**2/C)\n",
    "\n",
    "S = matriz_similitud(X, distancia_euclidiana,1)"
   ]
  },
  {
   "cell_type": "markdown",
   "metadata": {},
   "source": [
    "\n",
    "<h2>Implementaciones en librerías de Python</h2>\n",
    "\n",
    "La mayoría de estas medidas ya están programadas en librerías de Python. Aquí tenemos unos ejemplos. Los comparamos con las que hemos programado para asegurarnos de que devuelven los mismos valores:\n"
   ]
  },
  {
   "cell_type": "code",
   "execution_count": null,
   "metadata": {},
   "outputs": [],
   "source": [
    "from scipy.spatial.distance import minkowski, mahalanobis, jaccard, hamming, euclidean, cosine\n",
    "\n",
    "# Calcular la matriz de covarianzas usando NumPy\n",
    "#np.cov(X.transpose())\n",
    "print('La diferencia entre las dos versiones de la matriz de covarianzas es = ',\n",
    "      np.round(np.sum(np.cov(X.transpose())-mC),10))\n",
    "\n",
    "# Calcular la distancia de Mahalanobis:\n",
    "#mahalanobis(X[1,:],X[2,:],mCi)\n",
    "print('La diferencia entre las dos versiones de la distancia de Mahalanobis es = ',\n",
    "      (distancia_mahalanobis(X[1,:],X[2,:],mCi)-mahalanobis(X[1,:],X[2,:],mCi)))\n",
    "\n",
    "# La función Minkowski de SciPy es la p-norma\n",
    "#minkowski(X[1,:],X[2,:],p)\n",
    "print('La diferencia entre las dos versiones de la p-norma (p=1) es = ',\n",
    "      (p_norma(X[1,:],X[2,:],1)-minkowski(X[1,:],X[2,:],1)),\n",
    "     ' o también (p=2) = ',(p_norma(X[1,:],X[2,:],2)-minkowski(X[1,:],X[2,:],2)))\n",
    "\n",
    "#Otras medidas son:\n",
    "#cosine(X[1,:],X[2,:])\n",
    "#euclidean(X[1,:],X[2,:])\n",
    "#jaccard(X[1,:],X[2,:])\n",
    "#hamming(X[1,:],X[2,:])"
   ]
  },
  {
   "cell_type": "markdown",
   "metadata": {},
   "source": [
    "\n",
    "Ojo, ¡la función jaccard_similarity_score de la libraría sklearn no calcula el mismo valor!\n",
    "\n",
    "También existe la posibilidad de calcular la matriz de distancias directamente con la librería SciPy. Se le puede indicar el valor p de la p-norma a usar para calcular las distancias entre pares de instancias:\n"
   ]
  },
  {
   "cell_type": "code",
   "execution_count": null,
   "metadata": {},
   "outputs": [],
   "source": [
    "from scipy.spatial import distance_matrix\n",
    "\n",
    "Mb = distance_matrix(X, X, p=2)\n",
    "\n",
    "print('La diferencia entre las dos versiones de la matriz de covarianzas es = ', np.round(np.abs(np.sum(Ma-Mb)),10))"
   ]
  },
  {
   "cell_type": "code",
   "execution_count": null,
   "metadata": {},
   "outputs": [],
   "source": []
  }
 ],
 "metadata": {
  "kernelspec": {
   "display_name": "Python 3",
   "language": "python",
   "name": "python3"
  },
  "language_info": {
   "codemirror_mode": {
    "name": "ipython",
    "version": 3
   },
   "file_extension": ".py",
   "mimetype": "text/x-python",
   "name": "python",
   "nbconvert_exporter": "python",
   "pygments_lexer": "ipython3",
   "version": "3.7.1"
  }
 },
 "nbformat": 4,
 "nbformat_minor": 2
}

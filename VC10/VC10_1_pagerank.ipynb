{
 "cells": [
  {
   "cell_type": "markdown",
   "metadata": {},
   "source": [
    "<center><h1>VC10: Page Rank</h1></center>\n",
    "\n",
    "En este tutorial vamos a ver las diferentes maneras de calcular \n",
    "el PageRank de un grafo. Para ello, vamos a usar el siguiente \n",
    "grafo de ejemplo:\n",
    "\n",
    "\n",
    "<img src=\"images/grafo.png\" style=\"width:300px\"/>\n",
    "\n",
    "Una manera habitual de representar un grafo en computación es \n",
    "a través de su matriz de adyacencia. Una matriz de adyacencias \n",
    "es una matriz cuadrada de tantas filas/columnas como nodos hay \n",
    "en el grafo que codifica las posibles transiciones: un uno en \n",
    "la celda $(i,j)$ señala que hay un arco (dirigido) desde el nodo \n",
    "$i$ al nodo $j$. En este caso, dicha matriz sería:\n",
    "\n",
    "<pre>\n",
    "+---------------+\n",
    "| 0  0  0  1  1 |\n",
    "| 1  0  1  0  0 |\n",
    "| 0  0  0  0  1 |\n",
    "| 0  1  1  0  0 |\n",
    "| 0  0  1  1  0 |\n",
    "+---------------+\n",
    "</pre>\n",
    "\n",
    "El producto matricial de la matriz de adyacencias consigo misma \n",
    "devuelve una nueva matriz que indica los nodos comunicados por \n",
    "caminos de tamaño dos. En este sentido, la potencia de la matriz \n",
    "elevada a $l$ devuelve una matriz que indica si existen caminos \n",
    "de longitud $l$ entre cada par de nodos:\n"
   ]
  },
  {
   "cell_type": "code",
   "execution_count": null,
   "metadata": {},
   "outputs": [],
   "source": [
    "import numpy as np\n",
    "\n",
    "D = np.array([[0,1,0,0,0],[0,0,0,1,0],[0,1,0,1,1],[1,0,0,0,1],[1,0,1,0,0]]).T\n",
    "\n",
    "print(\"Matriz original:\")\n",
    "print(D)\n",
    "print(\"Matriz elevada a la potencia 3 (al cubo):\")\n",
    "print(np.linalg.matrix_power(D,3))\n"
   ]
  },
  {
   "cell_type": "markdown",
   "metadata": {},
   "source": [
    "\n",
    "Esta última matriz indica que hay, p.ej., 3 posibles caminos que \n",
    "van desde el segundo nodo al tercero. \n",
    "\n",
    "\n",
    "El cálculo del algoritmo PageRank se basa en el uso de un grafo bien \n",
    "conectado. Podemos saberlo haciendo el siguiente cálculo. \n",
    "Si después de la suma de las primeras X potencias de la \n",
    "matriz todavía hay algún cero en la matriz resultante, \n",
    "el grafo <b>no</b> es fuertemente conexo. "
   ]
  },
  {
   "cell_type": "code",
   "execution_count": null,
   "metadata": {},
   "outputs": [],
   "source": [
    "B = np.diag(np.ones(D.shape[0]))\n",
    "prod = D\n",
    "for i in np.arange(1,5):\n",
    "    B += np.linalg.matrix_power(D,i)\n",
    "\n",
    "print(\"Número de caminos posibles en un máximo de 4 pasos entre cualquier par de nodos:\")\n",
    "print(B)"
   ]
  },
  {
   "cell_type": "markdown",
   "metadata": {},
   "source": [
    "\n",
    "El PageRank no se calcula sobre la matriz de adyacencias, sino \n",
    "que se calcula con la matriz de transiciones. La <b>matriz de \n",
    "transiciones</b> indica la probabilidad de moverse de un nodo a \n",
    "otro. Así, el valor en la celda \n",
    "$(i,j)$ indica la probabilidad de que saliendo del nodo $j$ \n",
    "lleguemos al $i$. Si asumimos igual probabilidad en todas las \n",
    "transiciones, la probabilidad de moverse de $j$ a $i$ es igual \n",
    "a 1 entre el <i>outdegree</i> de $j$ (número de arcos que salen \n",
    "del nodo $j$). Intuitivamente, la suma de las columnas es igual \n",
    "a 1. Sólo será 0 si el nodo correspondiente no tiene arcos \n",
    "de salida (<i>outdegree</i> $=0$). De acuerdo con esta definición, \n",
    "la matriz de transiciones del grafo anterior sería:\n"
   ]
  },
  {
   "cell_type": "code",
   "execution_count": null,
   "metadata": {},
   "outputs": [],
   "source": [
    "outdegree = np.sum(D,axis=1)\n",
    "A = (D / ### TU CODIGO AQUI ###).T\n",
    "\n",
    "print(\"La matriz de transiciones de D es:\")\n",
    "print(A)"
   ]
  },
  {
   "cell_type": "markdown",
   "metadata": {},
   "source": [
    "Disponiendo de esta matriz, el PageRank se calcula como la \n",
    "potencia $n$-ésima de la matriz de transiciones por un vector \n",
    "de inicio uniformemente aleatorio (todos los valores son iguales a 1 entre \n",
    "el número de nodos) indicando que todas los nodos tienen \n",
    "inicialmente la misma probabilidad de ser el primer nodo en ser visitado."
   ]
  },
  {
   "cell_type": "code",
   "execution_count": null,
   "metadata": {},
   "outputs": [],
   "source": [
    "# F: Vector de inicio aleatorio\n",
    "F = np.ones(D.shape[0])\n",
    "F = ### TU CODIGO AQUI ###\n",
    "\n",
    "# Cálculo del page rank para diferentes potencias\n",
    "for i in np.arange(1,31):\n",
    "    rank = np.dot(np.linalg.matrix_power(A,i),F)\n",
    "    print(\"PageRank para A**{:2d} es: {}\".format(i,rank))"
   ]
  },
  {
   "cell_type": "markdown",
   "metadata": {},
   "source": [
    "\n",
    "Se observa claramente que a medida que se aumenta el valor del exponente (potencia), el resultado del PageRank que se calcula es más estable.\n",
    "\n",
    "El PageRank también se puede calcular como el primer vector propio de la matriz de transiciones normalizado:"
   ]
  },
  {
   "cell_type": "code",
   "execution_count": null,
   "metadata": {},
   "outputs": [],
   "source": [
    "_, vects = np.linalg.eig(A)\n",
    "aux = vects[:,0]\n",
    "aux /= np.sum(aux)\n",
    "print('PageRank calculado mediante técnicas algebraicas:',aux.real)"
   ]
  },
  {
   "cell_type": "markdown",
   "metadata": {},
   "source": [
    "Se puede ver que devuelven el mismo valor, aunque el cálculo \n",
    "con potencias es aproximado. Si aumentamos o reducimos el \n",
    "número del exponente en la potencia, la aproximación será más o menos fiable.\n",
    "\n",
    "Y hasta aquí, el cálculo del PageRank. Vamos a hacer ahora \n",
    "una prueba usando otro grafo diferente:\n",
    "\n",
    "<img src=\"images/grafo_sinDtoB.png\" style=\"width:300px\" />\n",
    "\n",
    "que se representa por medio de la siguiente matriz de adyacencias:"
   ]
  },
  {
   "cell_type": "code",
   "execution_count": null,
   "metadata": {},
   "outputs": [],
   "source": [
    "D = np.array([[0,1,0,0,0],[0,0,0,0,0],[0,1,0,1,1],[1,0,0,0,1],[1,0,1,0,0]]).T\n",
    "\n",
    "print(\"Matriz de adyacencias del segundo grafo:\")\n",
    "print(D)\n",
    "\n",
    "outdegree = np.sum(D,axis=1)\n",
    "A = (D / outdegree[:,np.newaxis]).T\n",
    "\n",
    "print(\"Matriz de transiciones del segundo grafo:\")\n",
    "print(A)\n",
    "\n",
    "rank = np.dot(np.linalg.matrix_power(A,30),F)\n",
    "print(\"PageRank para A**{:2d} es: {}\".format(30,rank))"
   ]
  },
  {
   "cell_type": "markdown",
   "metadata": {},
   "source": [
    "\n",
    "Observen que este grafo no tiene arcos que apunten al nodo $B$. \n",
    "Esto genera problemas en los cálculos del PageRank: si no hay \n",
    "ningún nodo apuntando a $B$, éste obtiene un <i>score</i> (valor \n",
    "de PageRank) igual a $0$. También recibe valor $0$ cualquier otro \n",
    "nodo que sólo está apuntado por nodos del estilo de $B$. \n",
    "Esto no es realista, pues todas los \n",
    "nodos son alcanzables (¡al menos por quien lo creó!). Los problemas \n",
    "que este hecho acarrea son abordados mediante una modificación \n",
    "del algoritmo original. Ahora, además del inicio aleatorio, se \n",
    "asumirá que, con cierta probabilidad ($p$), el camino puede \n",
    "realizar un salto aleatorio y seguir en cualquier otro nodo \n",
    "del grafo (aleatoriamente) aunque no estén directamente conectados. \n",
    "\n",
    "En la práctica, se construye una matriz de transiciones alternativa $M$ \n",
    "que toma los valores de la matriz de transiciones original $A$ con \n",
    "probabilidad $(1-p)$ y, con probabilidad $p$, los de otra matriz \n",
    "de transiciones aleatorias $R$ (se puede saltar de cualquier nodo \n",
    "a cualquier otro con la misma probabilidad, $1/|V|$, \n",
    "donde $|V|$ es el número de nodos; $|V|=5$ en este caso).\n"
   ]
  },
  {
   "cell_type": "code",
   "execution_count": null,
   "metadata": {},
   "outputs": [],
   "source": [
    "p = 0.15\n",
    "R = np.ones(D.shape)\n",
    "R = ### TU CODIGO AQUI ###\n",
    "\n",
    "M = (1-p)*A + p*R\n",
    "print(\"La matriz de transiciones original, A, es:\")\n",
    "print(A)\n",
    "print(\"La matriz de transiciones alternativa, M, es:\")\n",
    "print(M)"
   ]
  },
  {
   "cell_type": "markdown",
   "metadata": {},
   "source": [
    "\n",
    "Como puede observarse, ahora existe la posibilidad de desplazarse \n",
    "de cualquier nodo a cualquier otro en un único paso.\n",
    "\n",
    "Una vez obtenida la nueva matriz de transiciones, $M$, podemos \n",
    "usarla para calcular el PageRank, como se vio anteriormente, \n",
    "cambiando únicamente la matriz $A$ por $M$:\n"
   ]
  },
  {
   "cell_type": "code",
   "execution_count": null,
   "metadata": {},
   "outputs": [],
   "source": [
    "F = np.ones(D.shape[0])\n",
    "F /= np.sum(F)\n",
    "\n",
    "rank = np.dot(np.linalg.matrix_power(M,30),F)\n",
    "print(\"PageRank aproximado para M**{:2d} es: {}\".format(30,rank))\n",
    "\n",
    "_, vects = np.linalg.eig(M)\n",
    "rank = vects[:,0]\n",
    "rank /=np.sum(rank)\n",
    "print(\"PageRank (algebra) para M es: {}\".format(rank.real))\n",
    "print(\"El valor de PageRank del primer nodo es:\",rank.real[0],\n",
    "      ' (** ESTE ES EL RESULTADO A INCLUIR EN EL CAMPUS**)')"
   ]
  },
  {
   "cell_type": "markdown",
   "metadata": {},
   "source": [
    "\n",
    "<hr />\n",
    "\n",
    "<center><h1>Algoritmo HITS</h1></center>\n",
    "\n",
    "El algoritmo HITS, como hemos visto, es similar en concepción \n",
    "a PageRank. En ese sentido, los cálculos también tienen semejanzas.\n",
    "Podemos usar dos estrategias igualmente: multiplicación de matrices \n",
    "o vectores propios. La diferencia principal es que éste no usa \n",
    "la matriz de transiciones sino la de adyacencias. Así, el cálculo \n",
    "de HITS con multiplicación de matrices para el grafo usado en \n",
    "la sección anterior es:\n"
   ]
  },
  {
   "cell_type": "code",
   "execution_count": null,
   "metadata": {},
   "outputs": [],
   "source": [
    "D = np.array([[0,1,0,0,0],[0,0,0,1,0],[0,1,0,1,1],[1,0,0,0,1],[1,0,1,0,0]]).T\n",
    "\n",
    "h = np.ones(D.shape[0])\n",
    "a = np.array([])\n",
    "\n",
    "for i in np.arange(30):\n",
    "    a = np.dot(D.T, h)\n",
    "    h = ### TU CODIGO AQUI ###\n",
    "\n",
    "print(\"El valor de autoridad (A) es  : {}\".format(a/np.sum(a)))\n",
    "print(\"El valor de centralidad (H) es: {}\".format(h/np.sum(h)))"
   ]
  },
  {
   "cell_type": "markdown",
   "metadata": {},
   "source": [
    "\n",
    "Los vectores de <b>authorities</b> (autoridad) y <b>hubs</b> \n",
    "(centralidad) se obtienen \n",
    "de manera iterativa e intercambiándose mútuamente para calcular \n",
    "el otro. La segunda estrategia implica el uso del cálculo de los \n",
    "vectores propios de dos matrices diferentes: la matriz obtenida \n",
    "de multiplicar \n",
    "la transformada de $D$ por $D$; y la matriz obtenida de \n",
    "multiplicar $D$ por la transformada de $D$. Es necesario \n",
    "recordar que la multiplicación matricial <b>no</b> es conmutativa. \n"
   ]
  },
  {
   "cell_type": "code",
   "execution_count": null,
   "metadata": {},
   "outputs": [],
   "source": [
    "vals, vects = np.linalg.eig(np.dot(D.T,D))\n",
    "a = vects[:,np.argmax(vals)]\n",
    "print(\"El valor de autoridad (A) es  : {}\".format(a/np.sum(a)))\n",
    "\n",
    "vals, vects = np.linalg.eig(np.dot(D,D.T))\n",
    "h = vects[:,np.argmax(vals)]\n",
    "print(\"El valor de centralidad (H) es: {}\".format(h/np.sum(h)))"
   ]
  },
  {
   "cell_type": "markdown",
   "metadata": {},
   "source": [
    "Como también vimos con PageRank, el cálculo con la multiplicación \n",
    "de matrices es aproximado. Según aumentemos el número de iteraciones \n",
    "del bucle obtendremos una aproximación más precisa.\n",
    "\n",
    "\n",
    "<hr />\n",
    "\n",
    "<center><h1>Personalized PageRank</h1></center>\n",
    "\n",
    "Para el estudio del algoritmo <i>Personalized \n",
    "PageRank</i>, usaremos un nuevo grafo:\n",
    "\n",
    "<img src=\"images/grafo_ppr.png\" style=\"width:300px\" />\n",
    "\n",
    "que se codifica mediante la siguiente matriz de adyacencias:\n"
   ]
  },
  {
   "cell_type": "code",
   "execution_count": null,
   "metadata": {},
   "outputs": [],
   "source": [
    "D = np.zeros((16,16))\n",
    "D[0,1] = D[1,0] = 1; D[1,2] = D[2,1] = 1\n",
    "D[1,3] = D[3,1] = 1; D[1,3] = D[3,1] = 1\n",
    "D[2,4] = D[4,2] = 1; D[2,5] = D[5,2] = 1\n",
    "D[2,6] = D[6,2] = 1; D[2,7] = D[7,2] = 1\n",
    "D[5,6] = D[6,5] = 1; D[6,7] = D[7,6] = 1\n",
    "D[3,7] = D[7,3] = 1; D[4,8] = D[8,4] = 1\n",
    "D[4,9] = D[9,4] = 1; D[4,10] = D[10,4] = 1\n",
    "D[9,10] = D[10,9] = 1; D[5,10] = D[10,5] = 1\n",
    "D[5,11] = D[11,5] = 1; D[10,11] = D[11,10] = 1\n",
    "D[7,12] = D[12,7] = 1; D[7,13] = D[13,7] = 1\n",
    "D[14,11] = D[11,14] = 1; D[14,12] = D[12,14] = 1\n",
    "D[14,15] = D[15,14] = 1;\n",
    "\n",
    "print(\"La matriz de adyacencias D es:\")\n",
    "print(D.astype(int))\n",
    "\n",
    "A = D.T/np.sum(D,axis=1)\n",
    "\n",
    "print(\"La matriz de transiciones A es:\")\n",
    "print(np.round(A,2))\n"
   ]
  },
  {
   "cell_type": "markdown",
   "metadata": {},
   "source": [
    "\n",
    "Similar al PageRank normal, existen tres maneras de calcular el PPR: \n",
    "con potencias \n",
    "de matrices, vectores propios o muestreo. En el primer \n",
    "caso, la potencia de la matriz de transiciones adaptada ($M$) \n",
    "se obtiene:\n"
   ]
  },
  {
   "cell_type": "code",
   "execution_count": null,
   "metadata": {},
   "outputs": [],
   "source": [
    "p = 0.15\n",
    "\n",
    "R = np.zeros(D.shape)\n",
    "R[0,:] = 1\n",
    "F = R[:,0]\n",
    "\n",
    "M = (1-p)*A + ### TU CODIGO AQUI ###\n",
    "\n",
    "rank = np.dot(np.linalg.matrix_power(M,30),F)\n",
    "print(\"Personalized PageRank aproximado para M**{:2d} es: \\n{}\".format(30,rank))"
   ]
  },
  {
   "cell_type": "markdown",
   "metadata": {},
   "source": [
    "\n",
    "En este caso, el nodo inicial es sólo el nodo 1. Le \n",
    "asignamos probabilidad 1 (y 0 al resto) para indicar \n",
    "que todos los caminos empiezan (y se reinician) siembre \n",
    "desde ese nodo en el grafo. \n",
    "Podríamos repartir la probabilidad de inicio entre \n",
    "varios nodos. Nótese que si repartimos la probabilidad \n",
    "de manera uniforme entre todos los nodos nos encontraremos \n",
    "en el PageRank tradicional.\n",
    "\n",
    "La segunda manera de calcular el Personalized PageRank es usando la técnica basada en álgebra:\n"
   ]
  },
  {
   "cell_type": "code",
   "execution_count": null,
   "metadata": {},
   "outputs": [],
   "source": [
    "_, vects = np.linalg.eig(M)\n",
    "rank = vects[:,0]\n",
    "rank /=np.sum(rank)\n",
    "print(\"Personalized PageRank (algebra) para M es: \\n{}\".format(rank.real))"
   ]
  },
  {
   "cell_type": "markdown",
   "metadata": {},
   "source": [
    "\n",
    "Finalmente, podemos usar el muestreo. Básicamente se trata \n",
    "de lanzar $n$ <i>random walks</i> de longitud $l$. Dejamos \n",
    "que cada camino complete los $l$ pasos y guardamos el \n",
    "nodo en el que acaba cada uno de los caminos. Es necesario \n",
    "recordar que, con cierta probabilidad ($p$), el camino puede \n",
    "volver al nodo inicial para reiniciar un camino que realizará \n",
    "sólo los $\\hat{l}$ pasos restantes. Al final, la frecuencia con \n",
    "la que se llega a esos nodos finales sigue la distribución \n",
    "de probabilidad que representa el PageRank:\n"
   ]
  },
  {
   "cell_type": "code",
   "execution_count": null,
   "metadata": {},
   "outputs": [],
   "source": [
    "np.random.seed(17)\n",
    "\n",
    "p = 0.15\n",
    "first_node = 0\n",
    "nwalks = 3000\n",
    "walk_len = 20\n",
    "rank = np.zeros(D.shape[0])\n",
    "for w in np.arange(nwalks):\n",
    "    act = first_node\n",
    "    \n",
    "    for s in np.arange(walk_len):\n",
    "        if p > np.random.random_sample():\n",
    "            act = first_node\n",
    "        else:\n",
    "            cand = np.where(D[act,:].flatten() != 0)\n",
    "            act = ### TU CODIGO AQUI ###\n",
    "    rank[act] += 1\n",
    "\n",
    "print(\"Personalized PageRank aproximado (muestreo) para D es: \\n{}\".format(rank/np.sum(rank)))"
   ]
  },
  {
   "cell_type": "markdown",
   "metadata": {},
   "source": [
    "\n",
    "El cálculo con la potencia de matrices y el de muestreo \n",
    "son ambos aproximados. Según aumentemos el número de iteraciones \n",
    "del bucle obtendremos una aproximación más precisa. En el caso \n",
    "del muestreo, esto se hace aumentando el número de caminos \n",
    "aleatorios (<i>nwalks</i>). El tamaño (<i>walk_len</i>) de \n",
    "los caminos debería ser, como mínimo, el suficiente para \n",
    "que un camino aleatorio llegue al punto más alejado, aunque \n",
    "se puede restringir según la necesidad o el uso.\n"
   ]
  },
  {
   "cell_type": "code",
   "execution_count": null,
   "metadata": {},
   "outputs": [],
   "source": []
  }
 ],
 "metadata": {
  "kernelspec": {
   "display_name": "Python 3",
   "language": "python",
   "name": "python3"
  },
  "language_info": {
   "codemirror_mode": {
    "name": "ipython",
    "version": 3
   },
   "file_extension": ".py",
   "mimetype": "text/x-python",
   "name": "python",
   "nbconvert_exporter": "python",
   "pygments_lexer": "ipython3",
   "version": "3.7.1"
  }
 },
 "nbformat": 4,
 "nbformat_minor": 2
}
